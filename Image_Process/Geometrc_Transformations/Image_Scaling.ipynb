{
 "cells": [
  {
   "cell_type": "markdown",
   "metadata": {},
   "source": [
    "# 缩放图片\n",
    ">缩放只是调整图像的大小。\n",
    ">OpenCV可以通过函数cv.resize()达到目地\n",
    ">interpolation常用的插值是 cv.INTER_AREA、 cv.INTER_CUBIC、 cv.INTER_LINEAR \n",
    ">默认情况下是 cv.INTER_LINEAR "
   ]
  },
  {
   "cell_type": "markdown",
   "metadata": {},
   "source": []
  },
  {
   "cell_type": "code",
   "execution_count": 2,
   "metadata": {},
   "outputs": [],
   "source": [
    "import numpy as np\n",
    "import cv2 as cv\n",
    "\n",
    "img = cv.imread('flower.png')\n",
    "res = cv.resize(img, None, fx=2, fy=2, interpolation=cv.INTER_CUBIC) # 其中的fx是在宽度扩大两倍的意思，fy同理\n",
    "\n",
    "cv.imshow('img', res)\n",
    "cv.waitKey(2000)\n",
    "cv.destroyAllWindows()\n",
    "# 另一种方法\n",
    "# height, width = img.shape[:2]\n",
    "# res = cv.resize(img, (2*width, 2*height), interpolation=cv.INTER_CUBIC)"
   ]
  }
 ],
 "metadata": {
  "interpreter": {
   "hash": "103d78f315f006a4d69d5221b255ebb1de8e117f87aa061407952d8e37f9259d"
  },
  "kernelspec": {
   "display_name": "Python 3.8.12 64-bit ('pytorch': conda)",
   "language": "python",
   "name": "python3"
  },
  "language_info": {
   "codemirror_mode": {
    "name": "ipython",
    "version": 3
   },
   "file_extension": ".py",
   "mimetype": "text/x-python",
   "name": "python",
   "nbconvert_exporter": "python",
   "pygments_lexer": "ipython3",
   "version": "3.8.12"
  },
  "orig_nbformat": 4
 },
 "nbformat": 4,
 "nbformat_minor": 2
}
