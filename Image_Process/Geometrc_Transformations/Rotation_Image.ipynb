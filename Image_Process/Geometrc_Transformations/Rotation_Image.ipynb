{
 "cells": [
  {
   "cell_type": "markdown",
   "metadata": {},
   "source": [
    "# 旋转\n",
    "> 图像的旋转角度```θ```是通过矩阵变换的形式实现\n",
    "$$\n",
    "M = \n",
    "\\begin{bmatrix}\n",
    "cos \\theta & -sin \\theta \\\\\n",
    "sin \\theta & cos \\theta \n",
    "\\end{bmatrix}\n",
    "$$"
   ]
  },
  {
   "cell_type": "code",
   "execution_count": 1,
   "metadata": {},
   "outputs": [],
   "source": [
    "import cv2 as cv\n",
    "\n",
    "img = cv.imread('flower.png', 0)\n",
    "rows, cols = img.shape\n",
    "\n",
    "# Cols-1 and rows-1 are the coordinate limits\n",
    "M = cv.getRotationMatrix2D(((cols - 1) / 2.0, (rows - 1) / 2.0), 90, 1)\n",
    "dst = cv.warpAffine(img, M, (cols, rows))\n",
    "\n",
    "cv.imshow('image', img)\n",
    "cv.imshow('dst', dst)\n",
    "cv.waitKey(0)\n",
    "cv.destroyAllWindows()"
   ]
  }
 ],
 "metadata": {
  "interpreter": {
   "hash": "103d78f315f006a4d69d5221b255ebb1de8e117f87aa061407952d8e37f9259d"
  },
  "kernelspec": {
   "display_name": "Python 3.8.12 64-bit ('pytorch': conda)",
   "language": "python",
   "name": "python3"
  },
  "language_info": {
   "codemirror_mode": {
    "name": "ipython",
    "version": 3
   },
   "file_extension": ".py",
   "mimetype": "text/x-python",
   "name": "python",
   "nbconvert_exporter": "python",
   "pygments_lexer": "ipython3",
   "version": "3.8.12"
  },
  "orig_nbformat": 4
 },
 "nbformat": 4,
 "nbformat_minor": 2
}
