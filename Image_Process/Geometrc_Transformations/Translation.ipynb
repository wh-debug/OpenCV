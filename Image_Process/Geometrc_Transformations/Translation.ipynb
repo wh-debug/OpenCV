{
 "cells": [
  {
   "cell_type": "markdown",
   "metadata": {},
   "source": [
    "# 平移\n",
    "> 平移是物体位置的移动。如果知道```（x，y）```方向上的偏移，并将其设为```（tx，ty）```，则可以按如下方式创建变换矩阵M：\n",
    "$$\n",
    "M = \n",
    "\\begin{bmatrix}\n",
    " 1 & 0 & t_x \\\\\n",
    " 0 & 1 & t_y\n",
    "\\end{bmatrix}\n",
    "$$\n",
    ">可以将```M```放入```np.float32```类型的```Numpy```数组中。并将其传递给```cv.warpAffine()```函数。请参见以下示例："
   ]
  },
  {
   "cell_type": "code",
   "execution_count": 1,
   "metadata": {},
   "outputs": [],
   "source": [
    "import numpy as np\n",
    "import cv2 as cv\n",
    "\n",
    "# 图像·平移\n",
    "\n",
    "img = cv.imread('flower.png', 0) # 0代表返回灰度值， 1代表原图\n",
    "rows, cols = img.shape\n",
    "\n",
    "M = np.float32([[1, 0, 100], [0, 1, 50]]) # 此时图片的（0, 0）点移动到了（100, 50）\n",
    "dst = cv.warpAffine(img, M, (cols, rows)) # (cols, rows) 指定输出矩阵的尺寸\n",
    "\n",
    "cv.imshow('source', img)\n",
    "cv.imshow('image', dst)\n",
    "cv.waitKey(0)\n",
    "cv.destroyAllWindows()"
   ]
  },
  {
   "cell_type": "markdown",
   "metadata": {},
   "source": [
    ">```cv.warpAffine```的第三个参数是输出图像的大小，其形式应为```（宽度、高度）```。宽度=列数，高度=行数。"
   ]
  }
 ],
 "metadata": {
  "interpreter": {
   "hash": "103d78f315f006a4d69d5221b255ebb1de8e117f87aa061407952d8e37f9259d"
  },
  "kernelspec": {
   "display_name": "Python 3.8.12 64-bit ('pytorch': conda)",
   "language": "python",
   "name": "python3"
  },
  "language_info": {
   "name": "python",
   "version": "3.8.12"
  },
  "orig_nbformat": 4
 },
 "nbformat": 4,
 "nbformat_minor": 2
}
