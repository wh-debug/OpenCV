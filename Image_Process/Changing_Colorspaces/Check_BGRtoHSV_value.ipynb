{
 "cells": [
  {
   "cell_type": "code",
   "execution_count": 3,
   "metadata": {},
   "outputs": [
    {
     "data": {
      "text/plain": [
       "array([[[ 60, 255, 255]]], dtype=uint8)"
      ]
     },
     "execution_count": 3,
     "metadata": {},
     "output_type": "execute_result"
    }
   ],
   "source": [
    "import cv2\n",
    "import numpy as np\n",
    "\n",
    "green = np.uint8([[[0, 255, 0]]])\n",
    "hsv_green = cv2.cvtColor(green, cv2.COLOR_BGR2HSV)\n",
    "hsv_green"
   ]
  },
  {
   "cell_type": "markdown",
   "metadata": {},
   "source": [
    "# 调整阈值\n",
    "> 现在分别取[H-10 100 100]和[H-10 255 255]作为下界和上界。除此之外，您还可以使用任何图像编辑工具（如GIMP）或任何在线转换器来查找这些值，但不要忘记调整HSV范围。"
   ]
  }
 ],
 "metadata": {
  "interpreter": {
   "hash": "103d78f315f006a4d69d5221b255ebb1de8e117f87aa061407952d8e37f9259d"
  },
  "kernelspec": {
   "display_name": "Python 3.8.12 64-bit ('pytorch': conda)",
   "language": "python",
   "name": "python3"
  },
  "language_info": {
   "codemirror_mode": {
    "name": "ipython",
    "version": 3
   },
   "file_extension": ".py",
   "mimetype": "text/x-python",
   "name": "python",
   "nbconvert_exporter": "python",
   "pygments_lexer": "ipython3",
   "version": "3.8.12"
  },
  "orig_nbformat": 4
 },
 "nbformat": 4,
 "nbformat_minor": 2
}
